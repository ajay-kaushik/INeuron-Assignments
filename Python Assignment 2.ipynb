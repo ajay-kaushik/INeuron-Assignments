{
 "cells": [
  {
   "cell_type": "markdown",
   "id": "sensitive-merchant",
   "metadata": {},
   "source": [
    "### 1. Create the below pattern using nested for loop in Python\n",
    "\n",
    "    *\n",
    "    * *\n",
    "    * * *\n",
    "    * * * *\n",
    "    * * * * *\n",
    "    * * * *\n",
    "    * * *\n",
    "    * *\n",
    "    *"
   ]
  },
  {
   "cell_type": "code",
   "execution_count": 29,
   "id": "indie-authorization",
   "metadata": {},
   "outputs": [],
   "source": [
    "def printPattern():\n",
    "    n  = 5\n",
    "    for i in range(n+1):\n",
    "        for j in range(i):\n",
    "            print('*', end=' ')\n",
    "        print(\"\")\n",
    "    for i in range(n+1, 0,-1):\n",
    "        for j in range(i):\n",
    "            print('*', end=' ')\n",
    "        print(\"\")"
   ]
  },
  {
   "cell_type": "code",
   "execution_count": 30,
   "id": "minimal-hungarian",
   "metadata": {},
   "outputs": [
    {
     "name": "stdout",
     "output_type": "stream",
     "text": [
      "\n",
      "* \n",
      "* * \n",
      "* * * \n",
      "* * * * \n",
      "* * * * * \n",
      "* * * * * * \n",
      "* * * * * \n",
      "* * * * \n",
      "* * * \n",
      "* * \n",
      "* \n"
     ]
    }
   ],
   "source": [
    "printPattern()"
   ]
  },
  {
   "cell_type": "code",
   "execution_count": null,
   "id": "raising-bride",
   "metadata": {},
   "outputs": [],
   "source": []
  },
  {
   "cell_type": "markdown",
   "id": "patient-person",
   "metadata": {},
   "source": [
    "### 2. Write a Python program to reverse a word after accepting the input from the user"
   ]
  },
  {
   "cell_type": "code",
   "execution_count": 31,
   "id": "maritime-order",
   "metadata": {},
   "outputs": [],
   "source": [
    " def reverseString():\n",
    "        word = str(input('please enter a string: '))\n",
    "        print(word[::-1])"
   ]
  },
  {
   "cell_type": "code",
   "execution_count": 35,
   "id": "distinguished-explosion",
   "metadata": {},
   "outputs": [
    {
     "name": "stdout",
     "output_type": "stream",
     "text": [
      "please enter a string: Ineuron\n",
      "noruenI\n"
     ]
    }
   ],
   "source": [
    "reverseString()"
   ]
  },
  {
   "cell_type": "code",
   "execution_count": 36,
   "id": "fallen-candy",
   "metadata": {},
   "outputs": [
    {
     "name": "stdout",
     "output_type": "stream",
     "text": [
      "please enter a string: 12345\n",
      "54321\n"
     ]
    }
   ],
   "source": [
    "reverseString()"
   ]
  },
  {
   "cell_type": "code",
   "execution_count": null,
   "id": "right-latvia",
   "metadata": {},
   "outputs": [],
   "source": []
  }
 ],
 "metadata": {
  "kernelspec": {
   "display_name": "Python 3",
   "language": "python",
   "name": "python3"
  },
  "language_info": {
   "codemirror_mode": {
    "name": "ipython",
    "version": 3
   },
   "file_extension": ".py",
   "mimetype": "text/x-python",
   "name": "python",
   "nbconvert_exporter": "python",
   "pygments_lexer": "ipython3",
   "version": "3.9.2"
  }
 },
 "nbformat": 4,
 "nbformat_minor": 5
}
